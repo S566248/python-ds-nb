{
 "cells": [
  {
   "cell_type": "code",
   "execution_count": 1,
   "id": "ffaaabde-f123-44fe-8126-28e3b7d8e835",
   "metadata": {},
   "outputs": [
    {
     "name": "stdout",
     "output_type": "stream",
     "text": [
      "*      *\n",
      "**    **\n",
      "***  ***\n",
      "********\n"
     ]
    }
   ],
   "source": [
    "rows = 4\n",
    "\n",
    "# Outer loop for each row\n",
    "for i in range(1, rows + 1):\n",
    "    # Print asterisks for the left side of the pattern\n",
    "    for j in range(1, i + 1):\n",
    "        print(\"*\", end=\"\")\n",
    "    \n",
    "    # Print spaces for the middle of the pattern\n",
    "    for k in range(1, (rows - i) * 2 + 1):\n",
    "        print(\" \", end=\"\")\n",
    "    \n",
    "    # Print asterisks for the right side of the pattern\n",
    "    for l in range(1, i + 1):\n",
    "        print(\"*\", end=\"\")\n",
    "    \n",
    "    # Move to the next line for the next row\n",
    "    print()"
   ]
  }
 ],
 "metadata": {
  "kernelspec": {
   "display_name": "Python 3 (ipykernel)",
   "language": "python",
   "name": "python3"
  },
  "language_info": {
   "codemirror_mode": {
    "name": "ipython",
    "version": 3
   },
   "file_extension": ".py",
   "mimetype": "text/x-python",
   "name": "python",
   "nbconvert_exporter": "python",
   "pygments_lexer": "ipython3",
   "version": "3.11.8"
  }
 },
 "nbformat": 4,
 "nbformat_minor": 5
}
